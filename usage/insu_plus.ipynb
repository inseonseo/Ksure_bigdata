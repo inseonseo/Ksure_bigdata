{
 "cells": [
  {
   "cell_type": "code",
   "execution_count": null,
   "id": "2bb6c904",
   "metadata": {},
   "outputs": [],
   "source": []
  },
  {
   "cell_type": "code",
   "execution_count": null,
   "metadata": {},
   "outputs": [],
   "source": [
    "\n",
    "# 사용 예시:\n",
    "# generate_single_region_report(ds, \"서울\")"
   ]
  },
  {
   "cell_type": "code",
   "execution_count": null,
   "id": "8ccc1550",
   "metadata": {},
   "outputs": [],
   "source": []
  }
 ],
 "metadata": {
  "language_info": {
   "name": "python"
  }
 },
 "nbformat": 4,
 "nbformat_minor": 5
}
