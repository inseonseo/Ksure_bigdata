{
 "cells": [
  {
   "cell_type": "code",
   "execution_count": 1,
   "id": "cbf88ae1",
   "metadata": {},
   "outputs": [],
   "source": [
    "from pdf2image import convert_from_path"
   ]
  },
  {
   "cell_type": "code",
   "execution_count": 3,
   "id": "d4cf779d",
   "metadata": {},
   "outputs": [],
   "source": [
    "from pdf2image import convert_from_path\n",
    "\n",
    "pages = convert_from_path(\"pdfs/보상심사서1.pdf\", dpi=400, poppler_path=r\"C:\\Users\\wq240\\anaconda3\\Lib\\poppler-24.08.0\\Library\\bin\")\n",
    "\n",
    "for i, page in enumerate(pages):\n",
    "    page.save(f\"pdfs/보상심사서1_{i}.png\", \"PNG\")"
   ]
  },
  {
   "cell_type": "code",
   "execution_count": null,
   "id": "3b667015",
   "metadata": {},
   "outputs": [],
   "source": []
  }
 ],
 "metadata": {
  "kernelspec": {
   "display_name": "base",
   "language": "python",
   "name": "python3"
  },
  "language_info": {
   "codemirror_mode": {
    "name": "ipython",
    "version": 3
   },
   "file_extension": ".py",
   "mimetype": "text/x-python",
   "name": "python",
   "nbconvert_exporter": "python",
   "pygments_lexer": "ipython3",
   "version": "3.12.7"
  }
 },
 "nbformat": 4,
 "nbformat_minor": 5
}
